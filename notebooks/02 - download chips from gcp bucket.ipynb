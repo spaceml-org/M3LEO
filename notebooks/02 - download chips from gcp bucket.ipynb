{
 "cells": [
  {
   "cell_type": "code",
   "execution_count": 70,
   "id": "991b8529-a2e1-48d2-9fef-cd59fc141fcc",
   "metadata": {},
   "outputs": [],
   "source": [
    "import geopandas as gpd\n",
    "import pandas as pd\n",
    "from shapely import wkt\n",
    "import matplotlib.colors as colors\n",
    "import tempfile\n",
    "import numpy as np"
   ]
  },
  {
   "cell_type": "markdown",
   "id": "f9c186b3-975a-4fdd-9d17-7238690f6cff",
   "metadata": {},
   "source": [
    "## Define locations"
   ]
  },
  {
   "cell_type": "code",
   "execution_count": 90,
   "id": "1ee6b2c7-ceb8-4ac1-98fa-3771a236218c",
   "metadata": {},
   "outputs": [],
   "source": [
    "BASEURI = 'gs://fdl2023-sar-datasets'\n",
    "AOI     = \"conus\"\n",
    "AOIURI  = f\"{BASEURI}/{AOI}\"\n",
    "\n",
    "datasets = ['biomass-2020', 'esaworldcover-2020', 'gunw_2020-01-01_2020-03-31', 's1grd-2020', 's2rgbm-2020', 'strmdem', \n",
    "           'modis44b006veg', 'ghsbuilts-2020', 'gssic']\n"
   ]
  },
  {
   "cell_type": "markdown",
   "id": "fa6b8aa9-00f1-408c-9586-1fc3cebde20c",
   "metadata": {},
   "source": [
    "## Find and download definition files\n",
    "\n",
    "observe that there are two files\n",
    "\n",
    "- one defining the chips and their boundaries\n",
    "- one splitting chips in three splits which reduce spatial data leakage\n",
    "\n",
    "we do it this way since usually you just want to know what split a certain chip is in without having to load all the boundary definitions which are relatively large."
   ]
  },
  {
   "cell_type": "code",
   "execution_count": 80,
   "id": "10693a69-7a0a-40c6-853d-fd28174100fa",
   "metadata": {},
   "outputs": [
    {
     "name": "stdout",
     "output_type": "stream",
     "text": [
      "using chip  definitions at gs://fdl2023-sar-datasets/conus/conus_partitions_aschips_293d95e3ee589.geojson\n",
      "using datasets at          gs://fdl2023-sar-datasets/conus/conus_partitions_aschips_293d95e3ee589/\n",
      "using split definitions at gs://fdl2023-sar-datasets/conus/conus_partitions_aschips_293d95e3ee589_splits_60bands_angle09_60-20-20.csv\n"
     ]
    }
   ],
   "source": [
    "files = !gsutil ls $AOIURI\n",
    "\n",
    "chipdefs_file  = [i for i in files if i.endswith(\".geojson\") and 'partitions_aschips' in i][0]\n",
    "splitdefs_file = [i for i in files if i.endswith(\".csv\") and '_splits_' in i][0]\n",
    "datasets_uri = chipdefs_file.split(\".\")[0]\n",
    "datasets_folder = datasets_uri.split(\"/\")[-1]\n",
    "\n",
    "print (f\"using chip  definitions at {chipdefs_file}\")\n",
    "print (f\"using datasets at          {datasets_uri}/\")\n",
    "print (f\"using split definitions at {splitdefs_file}\")\n"
   ]
  },
  {
   "cell_type": "code",
   "execution_count": 81,
   "id": "23505b1e-aa43-48e0-ab66-d944ace75df5",
   "metadata": {},
   "outputs": [
    {
     "name": "stdout",
     "output_type": "stream",
     "text": [
      "Skipping existing item: file://data/conus_partitions_aschips_293d95e3ee589.geojson\n",
      "Skipping existing item: file://data/conus_partitions_aschips_293d95e3ee589_splits_60bands_angle09_60-20-20.csv\n",
      "total 66592\n",
      "    4 drwxrwxr-x 2 rlx rlx     4096 Dec  4 00:04 .\n",
      "    4 drwxrwxr-x 5 rlx rlx     4096 Dec  4 10:49 ..\n",
      "63404 -rw-rw-r-- 1 rlx rlx 64918760 Dec  3 20:03 conus_partitions_aschips_293d95e3ee589.geojson\n",
      " 3176 -rw-rw-r-- 1 rlx rlx  3249458 Dec  3 20:03 conus_partitions_aschips_293d95e3ee589_splits_60bands_angle09_60-20-20.csv\n",
      "    4 -rw-rw-r-- 1 rlx rlx      879 Dec  3 20:21 massachusetts.wkt\n"
     ]
    }
   ],
   "source": [
    "# download definitions\n",
    "\n",
    "!gsutil cp -nc $chipdefs_file data\n",
    "!gsutil cp -nc $splitdefs_file data\n",
    "!ls -las data"
   ]
  },
  {
   "cell_type": "markdown",
   "id": "1940c56a-7454-4b68-b8cf-38506ce00443",
   "metadata": {},
   "source": [
    "## Load chip definitions\n"
   ]
  },
  {
   "cell_type": "code",
   "execution_count": 82,
   "id": "f2df5e93-8fd4-4e1d-98c8-a3334df29def",
   "metadata": {},
   "outputs": [],
   "source": [
    "chipdefs_localfile = f\"data/{chipdefs_file.split('/')[-1]}\"\n",
    "splitdefs_localfile = f\"data/{splitdefs_file.split('/')[-1]}\"\n",
    "c = gpd.read_file(chipdefs_localfile)\n",
    "s = pd.read_csv(splitdefs_localfile, index_col=0)"
   ]
  },
  {
   "cell_type": "code",
   "execution_count": 83,
   "id": "7b79c630-298e-44f3-a17c-be95634e5170",
   "metadata": {},
   "outputs": [
    {
     "data": {
      "text/plain": [
       "((167406, 3), (167406, 1))"
      ]
     },
     "execution_count": 83,
     "metadata": {},
     "output_type": "execute_result"
    }
   ],
   "source": [
    "c.shape, s.shape"
   ]
  },
  {
   "cell_type": "markdown",
   "id": "3ed3cbcd-afb6-4fce-bb4e-0d165abc525d",
   "metadata": {},
   "source": [
    "## Select randomly a few chips on the train split\n",
    "\n",
    "we select randomly 20 chips in the train split in Massachusetts"
   ]
  },
  {
   "cell_type": "code",
   "execution_count": 84,
   "id": "58513fb3-baf9-47fc-9e1b-2ccfe7c83f02",
   "metadata": {},
   "outputs": [
    {
     "data": {
      "text/plain": [
       "(1285, 4)"
      ]
     },
     "execution_count": 84,
     "metadata": {},
     "output_type": "execute_result"
    }
   ],
   "source": [
    "with open(\"data/massachusetts.wkt\", \"r\") as f:\n",
    "    bounds = wkt.load(f)\n",
    "\n",
    "myarea = c[[bounds.intersects(g) for g in c.geometry]]\n",
    "myarea_splits = myarea.merge(s, left_on='identifier', right_on='identifier')\n",
    "myarea_splits.shape"
   ]
  },
  {
   "cell_type": "code",
   "execution_count": 85,
   "id": "d802ff23-3788-4d52-aca2-56cd6046a3e3",
   "metadata": {},
   "outputs": [
    {
     "data": {
      "text/plain": [
       "array(['01be220189f77', '2c1a7f33fb7ff', '1f864ff2de2ff', '115145c182573',\n",
       "       '2dbe6ebf00c92', '29301012c742e', '22be8f11396fe', '0f6826d7f42c7',\n",
       "       '2b1f1cb4cc852', '2f666401552e1', '1cad5365f7d3b', '0b0999359260d',\n",
       "       '2cfcab146184e', '1122d72bf5929', '303ca2a9aeb4f', '072e3a06bc49e',\n",
       "       '07d00d673c2bd', '2fd48447443e1', '036baa35ffe0c', '015084acbf7dc'],\n",
       "      dtype=object)"
      ]
     },
     "execution_count": 85,
     "metadata": {},
     "output_type": "execute_result"
    }
   ],
   "source": [
    "myarea_splits   = myarea.merge(s, left_on='identifier', right_on='identifier')\n",
    "myarea_train    = myarea_splits[myarea_splits.split=='train']\n",
    "myarea_selected = myarea_train.sample(20)\n",
    "chipids = myarea_selected.identifier.values\n",
    "chipids"
   ]
  },
  {
   "cell_type": "code",
   "execution_count": 86,
   "id": "2ec408c5-0397-49c5-81df-4b3c2c0be2d4",
   "metadata": {},
   "outputs": [
    {
     "data": {
      "text/html": [
       "<div style=\"width:100%;\"><div style=\"position:relative;width:100%;height:0;padding-bottom:60%;\"><span style=\"color:#565656\">Make this Notebook Trusted to load map: File -> Trust Notebook</span><iframe srcdoc=\"&lt;!DOCTYPE html&gt;\n",
       "&lt;head&gt;    \n",
       "    &lt;meta http-equiv=&quot;content-type&quot; content=&quot;text/html; charset=UTF-8&quot; /&gt;\n",
       "    \n",
       "        &lt;script&gt;\n",
       "            L_NO_TOUCH = false;\n",
       "            L_DISABLE_3D = false;\n",
       "        &lt;/script&gt;\n",
       "    \n",
       "    &lt;style&gt;html, body {width: 100%;height: 100%;margin: 0;padding: 0;}&lt;/style&gt;\n",
       "    &lt;style&gt;#map {position:absolute;top:0;bottom:0;right:0;left:0;}&lt;/style&gt;\n",
       "    &lt;script src=&quot;https://cdn.jsdelivr.net/npm/leaflet@1.6.0/dist/leaflet.js&quot;&gt;&lt;/script&gt;\n",
       "    &lt;script src=&quot;https://code.jquery.com/jquery-1.12.4.min.js&quot;&gt;&lt;/script&gt;\n",
       "    &lt;script src=&quot;https://maxcdn.bootstrapcdn.com/bootstrap/3.2.0/js/bootstrap.min.js&quot;&gt;&lt;/script&gt;\n",
       "    &lt;script src=&quot;https://cdnjs.cloudflare.com/ajax/libs/Leaflet.awesome-markers/2.0.2/leaflet.awesome-markers.js&quot;&gt;&lt;/script&gt;\n",
       "    &lt;link rel=&quot;stylesheet&quot; href=&quot;https://cdn.jsdelivr.net/npm/leaflet@1.6.0/dist/leaflet.css&quot;/&gt;\n",
       "    &lt;link rel=&quot;stylesheet&quot; href=&quot;https://maxcdn.bootstrapcdn.com/bootstrap/3.2.0/css/bootstrap.min.css&quot;/&gt;\n",
       "    &lt;link rel=&quot;stylesheet&quot; href=&quot;https://maxcdn.bootstrapcdn.com/bootstrap/3.2.0/css/bootstrap-theme.min.css&quot;/&gt;\n",
       "    &lt;link rel=&quot;stylesheet&quot; href=&quot;https://maxcdn.bootstrapcdn.com/font-awesome/4.6.3/css/font-awesome.min.css&quot;/&gt;\n",
       "    &lt;link rel=&quot;stylesheet&quot; href=&quot;https://cdnjs.cloudflare.com/ajax/libs/Leaflet.awesome-markers/2.0.2/leaflet.awesome-markers.css&quot;/&gt;\n",
       "    &lt;link rel=&quot;stylesheet&quot; href=&quot;https://cdn.jsdelivr.net/gh/python-visualization/folium/folium/templates/leaflet.awesome.rotate.min.css&quot;/&gt;\n",
       "    \n",
       "            &lt;meta name=&quot;viewport&quot; content=&quot;width=device-width,\n",
       "                initial-scale=1.0, maximum-scale=1.0, user-scalable=no&quot; /&gt;\n",
       "            &lt;style&gt;\n",
       "                #map_9ed085103d47190e1a9c0cfe644e28f8 {\n",
       "                    position: relative;\n",
       "                    width: 100.0%;\n",
       "                    height: 100.0%;\n",
       "                    left: 0.0%;\n",
       "                    top: 0.0%;\n",
       "                }\n",
       "            &lt;/style&gt;\n",
       "        \n",
       "    \n",
       "                    &lt;style&gt;\n",
       "                        .foliumtooltip {\n",
       "                            \n",
       "                        }\n",
       "                       .foliumtooltip table{\n",
       "                            margin: auto;\n",
       "                        }\n",
       "                        .foliumtooltip tr{\n",
       "                            text-align: left;\n",
       "                        }\n",
       "                        .foliumtooltip th{\n",
       "                            padding: 2px; padding-right: 8px;\n",
       "                        }\n",
       "                    &lt;/style&gt;\n",
       "            \n",
       "&lt;/head&gt;\n",
       "&lt;body&gt;    \n",
       "    \n",
       "            &lt;div class=&quot;folium-map&quot; id=&quot;map_9ed085103d47190e1a9c0cfe644e28f8&quot; &gt;&lt;/div&gt;\n",
       "        \n",
       "&lt;/body&gt;\n",
       "&lt;script&gt;    \n",
       "    \n",
       "            var map_9ed085103d47190e1a9c0cfe644e28f8 = L.map(\n",
       "                &quot;map_9ed085103d47190e1a9c0cfe644e28f8&quot;,\n",
       "                {\n",
       "                    center: [42.44061264214872, -71.1397441744065],\n",
       "                    crs: L.CRS.EPSG3857,\n",
       "                    zoom: 10,\n",
       "                    zoomControl: true,\n",
       "                    preferCanvas: false,\n",
       "                }\n",
       "            );\n",
       "            L.control.scale().addTo(map_9ed085103d47190e1a9c0cfe644e28f8);\n",
       "\n",
       "            \n",
       "\n",
       "        \n",
       "    \n",
       "            var tile_layer_08efbe6a12a8b42a67623661ef25e2e6 = L.tileLayer(\n",
       "                &quot;https://{s}.tile.openstreetmap.org/{z}/{x}/{y}.png&quot;,\n",
       "                {&quot;attribution&quot;: &quot;Data by \\u0026copy; \\u003ca href=\\&quot;http://openstreetmap.org\\&quot;\\u003eOpenStreetMap\\u003c/a\\u003e, under \\u003ca href=\\&quot;http://www.openstreetmap.org/copyright\\&quot;\\u003eODbL\\u003c/a\\u003e.&quot;, &quot;detectRetina&quot;: false, &quot;maxNativeZoom&quot;: 18, &quot;maxZoom&quot;: 18, &quot;minZoom&quot;: 0, &quot;noWrap&quot;: false, &quot;opacity&quot;: 1, &quot;subdomains&quot;: &quot;abc&quot;, &quot;tms&quot;: false}\n",
       "            ).addTo(map_9ed085103d47190e1a9c0cfe644e28f8);\n",
       "        \n",
       "    \n",
       "            map_9ed085103d47190e1a9c0cfe644e28f8.fitBounds(\n",
       "                [[42.068820134275995, -71.74362052011567], [42.812405150021455, -70.53586782869732]],\n",
       "                {}\n",
       "            );\n",
       "        \n",
       "    \n",
       "        function geo_json_40ddffc15d854884de2e283d8dcf3d10_styler(feature) {\n",
       "            switch(feature.id) {\n",
       "                default:\n",
       "                    return {&quot;fillOpacity&quot;: 0.5, &quot;weight&quot;: 2};\n",
       "            }\n",
       "        }\n",
       "        function geo_json_40ddffc15d854884de2e283d8dcf3d10_highlighter(feature) {\n",
       "            switch(feature.id) {\n",
       "                default:\n",
       "                    return {&quot;fillOpacity&quot;: 0.75};\n",
       "            }\n",
       "        }\n",
       "        function geo_json_40ddffc15d854884de2e283d8dcf3d10_pointToLayer(feature, latlng) {\n",
       "            var opts = {&quot;bubblingMouseEvents&quot;: true, &quot;color&quot;: &quot;#3388ff&quot;, &quot;dashArray&quot;: null, &quot;dashOffset&quot;: null, &quot;fill&quot;: true, &quot;fillColor&quot;: &quot;#3388ff&quot;, &quot;fillOpacity&quot;: 0.2, &quot;fillRule&quot;: &quot;evenodd&quot;, &quot;lineCap&quot;: &quot;round&quot;, &quot;lineJoin&quot;: &quot;round&quot;, &quot;opacity&quot;: 1.0, &quot;radius&quot;: 2, &quot;stroke&quot;: true, &quot;weight&quot;: 3};\n",
       "            \n",
       "            let style = geo_json_40ddffc15d854884de2e283d8dcf3d10_styler(feature)\n",
       "            Object.assign(opts, style)\n",
       "            \n",
       "            return new L.CircleMarker(latlng, opts)\n",
       "        }\n",
       "\n",
       "        function geo_json_40ddffc15d854884de2e283d8dcf3d10_onEachFeature(feature, layer) {\n",
       "            layer.on({\n",
       "                mouseout: function(e) {\n",
       "                    if(typeof e.target.setStyle === &quot;function&quot;){\n",
       "                        geo_json_40ddffc15d854884de2e283d8dcf3d10.resetStyle(e.target);\n",
       "                    }\n",
       "                },\n",
       "                mouseover: function(e) {\n",
       "                    if(typeof e.target.setStyle === &quot;function&quot;){\n",
       "                        const highlightStyle = geo_json_40ddffc15d854884de2e283d8dcf3d10_highlighter(e.target.feature)\n",
       "                        e.target.setStyle(highlightStyle);\n",
       "                    }\n",
       "                },\n",
       "            });\n",
       "        };\n",
       "        var geo_json_40ddffc15d854884de2e283d8dcf3d10 = L.geoJson(null, {\n",
       "                onEachFeature: geo_json_40ddffc15d854884de2e283d8dcf3d10_onEachFeature,\n",
       "            \n",
       "                style: geo_json_40ddffc15d854884de2e283d8dcf3d10_styler,\n",
       "                pointToLayer: geo_json_40ddffc15d854884de2e283d8dcf3d10_pointToLayer\n",
       "        });\n",
       "\n",
       "        function geo_json_40ddffc15d854884de2e283d8dcf3d10_add (data) {\n",
       "            geo_json_40ddffc15d854884de2e283d8dcf3d10\n",
       "                .addData(data)\n",
       "                .addTo(map_9ed085103d47190e1a9c0cfe644e28f8);\n",
       "        }\n",
       "            geo_json_40ddffc15d854884de2e283d8dcf3d10_add({&quot;bbox&quot;: [-71.74362052011567, 42.068820134275995, -70.53586782869732, 42.812405150021455], &quot;features&quot;: [{&quot;bbox&quot;: [-70.82223336515513, 42.514107086170846, -70.767857372922, 42.5543220337692], &quot;geometry&quot;: {&quot;coordinates&quot;: [[[-70.82223336515513, 42.514107086170846], [-70.82223336515513, 42.5543220337692], [-70.767857372922, 42.5543220337692], [-70.767857372922, 42.514107086170846], [-70.82223336515513, 42.514107086170846]]], &quot;type&quot;: &quot;Polygon&quot;}, &quot;id&quot;: &quot;1032&quot;, &quot;properties&quot;: {&quot;area_km2&quot;: 22.701227412544487, &quot;identifier&quot;: &quot;01be220189f77&quot;, &quot;split&quot;: &quot;train&quot;}, &quot;type&quot;: &quot;Feature&quot;}, {&quot;bbox&quot;: [-71.70963479393545, 42.70756229083047, -71.65506234694693, 42.747796358933925], &quot;geometry&quot;: {&quot;coordinates&quot;: [[[-71.70963479393545, 42.70756229083047], [-71.70963479393545, 42.747796358933925], [-71.65506234694693, 42.747796358933925], [-71.65506234694693, 42.70756229083047], [-71.70963479393545, 42.70756229083047]]], &quot;type&quot;: &quot;Polygon&quot;}, &quot;id&quot;: &quot;606&quot;, &quot;properties&quot;: {&quot;area_km2&quot;: 22.527954678421704, &quot;identifier&quot;: &quot;2c1a7f33fb7ff&quot;, &quot;split&quot;: &quot;train&quot;}, &quot;type&quot;: &quot;Feature&quot;}, {&quot;bbox&quot;: [-71.74362052011567, 42.635882868758436, -71.68912759769891, 42.67610504077424], &quot;geometry&quot;: {&quot;coordinates&quot;: [[[-71.74362052011567, 42.635882868758436], [-71.74362052011567, 42.67610504077424], [-71.68912759769891, 42.67610504077424], [-71.68912759769891, 42.635882868758436], [-71.74362052011567, 42.635882868758436]]], &quot;type&quot;: &quot;Polygon&quot;}, &quot;id&quot;: &quot;604&quot;, &quot;properties&quot;: {&quot;area_km2&quot;: 22.514120701943614, &quot;identifier&quot;: &quot;1f864ff2de2ff&quot;, &quot;split&quot;: &quot;train&quot;}, &quot;type&quot;: &quot;Feature&quot;}, {&quot;bbox&quot;: [-70.86187981556034, 42.766149825668215, -70.80722368893166, 42.80640722741578], &quot;geometry&quot;: {&quot;coordinates&quot;: [[[-70.86187981556034, 42.766149825668215], [-70.86187981556034, 42.80640722741578], [-70.80722368893166, 42.80640722741578], [-70.80722368893166, 42.766149825668215], [-70.86187981556034, 42.766149825668215]]], &quot;type&quot;: &quot;Polygon&quot;}, &quot;id&quot;: &quot;960&quot;, &quot;properties&quot;: {&quot;area_km2&quot;: 22.717686763502183, &quot;identifier&quot;: &quot;115145c182573&quot;, &quot;split&quot;: &quot;train&quot;}, &quot;type&quot;: &quot;Feature&quot;}, {&quot;bbox&quot;: [-71.51542465168045, 42.657160870162194, -71.4609041124585, 42.69738955306254], &quot;geometry&quot;: {&quot;coordinates&quot;: [[[-71.51542465168045, 42.657160870162194], [-71.51542465168045, 42.69738955306254], [-71.4609041124585, 42.69738955306254], [-71.4609041124585, 42.657160870162194], [-71.51542465168045, 42.657160870162194]]], &quot;type&quot;: &quot;Polygon&quot;}, &quot;id&quot;: &quot;686&quot;, &quot;properties&quot;: {&quot;area_km2&quot;: 22.56446762420719, &quot;identifier&quot;: &quot;2dbe6ebf00c92&quot;, &quot;split&quot;: &quot;train&quot;}, &quot;type&quot;: &quot;Feature&quot;}, {&quot;bbox&quot;: [-71.11822358647578, 42.351795075225084, -71.06403177996111, 42.39197857793374], &quot;geometry&quot;: {&quot;coordinates&quot;: [[[-71.11822358647578, 42.351795075225084], [-71.11822358647578, 42.39197857793374], [-71.06403177996111, 42.39197857793374], [-71.06403177996111, 42.351795075225084], [-71.11822358647578, 42.351795075225084]]], &quot;type&quot;: &quot;Polygon&quot;}, &quot;id&quot;: &quot;916&quot;, &quot;properties&quot;: {&quot;area_km2&quot;: 22.62038054784882, &quot;identifier&quot;: &quot;29301012c742e&quot;, &quot;split&quot;: &quot;train&quot;}, &quot;type&quot;: &quot;Feature&quot;}, {&quot;bbox&quot;: [-71.02434322879103, 42.769280023049525, -70.96968755225197, 42.80953504290945], &quot;geometry&quot;: {&quot;coordinates&quot;: [[[-71.02434322879103, 42.769280023049525], [-71.02434322879103, 42.80953504290945], [-70.96968755225197, 42.80953504290945], [-70.96968755225197, 42.769280023049525], [-71.02434322879103, 42.769280023049525]]], &quot;type&quot;: &quot;Polygon&quot;}, &quot;id&quot;: &quot;867&quot;, &quot;properties&quot;: {&quot;area_km2&quot;: 22.681942027739137, &quot;identifier&quot;: &quot;22be8f11396fe&quot;, &quot;split&quot;: &quot;train&quot;}, &quot;type&quot;: &quot;Feature&quot;}, {&quot;bbox&quot;: [-71.1491728572816, 42.40017189626048, -71.09492853929805, 42.44036311198334], &quot;geometry&quot;: {&quot;coordinates&quot;: [[[-71.1491728572816, 42.40017189626048], [-71.1491728572816, 42.44036311198334], [-71.09492853929805, 42.44036311198334], [-71.09492853929805, 42.40017189626048], [-71.1491728572816, 42.40017189626048]]], &quot;type&quot;: &quot;Polygon&quot;}, &quot;id&quot;: &quot;886&quot;, &quot;properties&quot;: {&quot;area_km2&quot;: 22.618420016120083, &quot;identifier&quot;: &quot;0f6826d7f42c7&quot;, &quot;split&quot;: &quot;train&quot;}, &quot;type&quot;: &quot;Feature&quot;}, {&quot;bbox&quot;: [-71.22160516218398, 42.7008150368178, -71.16703030034728, 42.7410552934778], &quot;geometry&quot;: {&quot;coordinates&quot;: [[[-71.22160516218398, 42.7008150368178], [-71.22160516218398, 42.7410552934778], [-71.16703030034728, 42.7410552934778], [-71.16703030034728, 42.7008150368178], [-71.22160516218398, 42.7008150368178]]], &quot;type&quot;: &quot;Polygon&quot;}, &quot;id&quot;: &quot;792&quot;, &quot;properties&quot;: {&quot;area_km2&quot;: 22.631986168719727, &quot;identifier&quot;: &quot;2b1f1cb4cc852&quot;, &quot;split&quot;: &quot;train&quot;}, &quot;type&quot;: &quot;Feature&quot;}, {&quot;bbox&quot;: [-71.50113941952691, 42.57299411223512, -71.44671134026282, 42.61320932523661], &quot;geometry&quot;: {&quot;coordinates&quot;: [[[-71.50113941952691, 42.57299411223512], [-71.50113941952691, 42.61320932523661], [-71.44671134026282, 42.61320932523661], [-71.44671134026282, 42.57299411223512], [-71.50113941952691, 42.57299411223512]]], &quot;type&quot;: &quot;Polygon&quot;}, &quot;id&quot;: &quot;704&quot;, &quot;properties&quot;: {&quot;area_km2&quot;: 22.55953681146746, &quot;identifier&quot;: &quot;2f666401552e1&quot;, &quot;split&quot;: &quot;train&quot;}, &quot;type&quot;: &quot;Feature&quot;}, {&quot;bbox&quot;: [-71.18016146036821, 42.44855731009556, -71.1258645484905, 42.488756205485934], &quot;geometry&quot;: {&quot;coordinates&quot;: [[[-71.18016146036821, 42.44855731009556], [-71.18016146036821, 42.488756205485934], [-71.1258645484905, 42.488756205485934], [-71.1258645484905, 42.44855731009556], [-71.18016146036821, 42.44855731009556]]], &quot;type&quot;: &quot;Polygon&quot;}, &quot;id&quot;: &quot;858&quot;, &quot;properties&quot;: {&quot;area_km2&quot;: 22.616440481719454, &quot;identifier&quot;: &quot;1cad5365f7d3b&quot;, &quot;split&quot;: &quot;train&quot;}, &quot;type&quot;: &quot;Feature&quot;}, {&quot;bbox&quot;: [-71.0564424069142, 42.25506740736087, -71.00235537690286, 42.29523538418508], &quot;geometry&quot;: {&quot;coordinates&quot;: [[[-71.0564424069142, 42.25506740736087], [-71.0564424069142, 42.29523538418508], [-71.00235537690286, 42.29523538418508], [-71.00235537690286, 42.25506740736087], [-71.0564424069142, 42.25506740736087]]], &quot;type&quot;: &quot;Polygon&quot;}, &quot;id&quot;: &quot;978&quot;, &quot;properties&quot;: {&quot;area_km2&quot;: 22.62424466878793, &quot;identifier&quot;: &quot;0b0999359260d&quot;, &quot;split&quot;: &quot;train&quot;}, &quot;type&quot;: &quot;Feature&quot;}, {&quot;bbox&quot;: [-70.59040351944427, 42.65275092621649, -70.53586782869732, 42.69299366475956], &quot;geometry&quot;: {&quot;coordinates&quot;: [[[-70.59040351944427, 42.65275092621649], [-70.59040351944427, 42.69299366475956], [-70.53586782869732, 42.69299366475956], [-70.53586782869732, 42.65275092621649], [-70.59040351944427, 42.65275092621649]]], &quot;type&quot;: &quot;Polygon&quot;}, &quot;id&quot;: &quot;1108&quot;, &quot;properties&quot;: {&quot;area_km2&quot;: 22.767119492259695, &quot;identifier&quot;: &quot;2cfcab146184e&quot;, &quot;split&quot;: &quot;train&quot;}, &quot;type&quot;: &quot;Feature&quot;}, {&quot;bbox&quot;: [-71.04564685224531, 42.61398086977209, -70.99116469060351, 42.654209363603314], &quot;geometry&quot;: {&quot;coordinates&quot;: [[[-71.04564685224531, 42.61398086977209], [-71.04564685224531, 42.654209363603314], [-70.99116469060351, 42.654209363603314], [-70.99116469060351, 42.61398086977209], [-71.04564685224531, 42.61398086977209]]], &quot;type&quot;: &quot;Polygon&quot;}, &quot;id&quot;: &quot;892&quot;, &quot;properties&quot;: {&quot;area_km2&quot;: 22.661931392255386, &quot;identifier&quot;: &quot;1122d72bf5929&quot;, &quot;split&quot;: &quot;train&quot;}, &quot;type&quot;: &quot;Feature&quot;}, {&quot;bbox&quot;: [-71.18694138125454, 42.77215245820539, -71.13228631083629, 42.812405150021455], &quot;geometry&quot;: {&quot;coordinates&quot;: [[[-71.18694138125454, 42.77215245820539], [-71.18694138125454, 42.812405150021455], [-71.13228631083629, 42.812405150021455], [-71.13228631083629, 42.77215245820539], [-71.18694138125454, 42.77215245820539]]], &quot;type&quot;: &quot;Polygon&quot;}, &quot;id&quot;: &quot;794&quot;, &quot;properties&quot;: {&quot;area_km2&quot;: 22.646488673914575, &quot;identifier&quot;: &quot;303ca2a9aeb4f&quot;, &quot;split&quot;: &quot;train&quot;}, &quot;type&quot;: &quot;Feature&quot;}, {&quot;bbox&quot;: [-71.67806435935378, 42.65916720223965, -71.62354465365215, 42.69939396171012], &quot;geometry&quot;: {&quot;coordinates&quot;: [[[-71.67806435935378, 42.65916720223965], [-71.67806435935378, 42.69939396171012], [-71.62354465365215, 42.69939396171012], [-71.62354465365215, 42.65916720223965], [-71.67806435935378, 42.65916720223965]]], &quot;type&quot;: &quot;Polygon&quot;}, &quot;id&quot;: &quot;625&quot;, &quot;properties&quot;: {&quot;area_km2&quot;: 22.530111746084525, &quot;identifier&quot;: &quot;072e3a06bc49e&quot;, &quot;split&quot;: &quot;train&quot;}, &quot;type&quot;: &quot;Feature&quot;}, {&quot;bbox&quot;: [-71.04937789148951, 42.49431832633658, -70.9950282360185, 42.534526624165466], &quot;geometry&quot;: {&quot;coordinates&quot;: [[[-71.04937789148951, 42.49431832633658], [-71.04937789148951, 42.534526624165466], [-70.9950282360185, 42.534526624165466], [-70.9950282360185, 42.49431832633658], [-71.04937789148951, 42.49431832633658]]], &quot;type&quot;: &quot;Polygon&quot;}, &quot;id&quot;: &quot;920&quot;, &quot;properties&quot;: {&quot;area_km2&quot;: 22.649326025722683, &quot;identifier&quot;: &quot;07d00d673c2bd&quot;, &quot;split&quot;: &quot;train&quot;}, &quot;type&quot;: &quot;Feature&quot;}, {&quot;bbox&quot;: [-71.19053183277835, 42.65237430318918, -71.13601009711842, 42.692606990237095], &quot;geometry&quot;: {&quot;coordinates&quot;: [[[-71.19053183277835, 42.65237430318918], [-71.19053183277835, 42.692606990237095], [-71.13601009711842, 42.692606990237095], [-71.13601009711842, 42.65237430318918], [-71.19053183277835, 42.65237430318918]]], &quot;type&quot;: &quot;Polygon&quot;}, &quot;id&quot;: &quot;814&quot;, &quot;properties&quot;: {&quot;area_km2&quot;: 22.6340389697868, &quot;identifier&quot;: &quot;2fd48447443e1&quot;, &quot;split&quot;: &quot;train&quot;}, &quot;type&quot;: &quot;Feature&quot;}, {&quot;bbox&quot;: [-70.66043691691601, 42.068820134275995, -70.60654736254261, 42.10896040079032], &quot;geometry&quot;: {&quot;coordinates&quot;: [[[-70.66043691691601, 42.068820134275995], [-70.66043691691601, 42.10896040079032], [-70.60654736254261, 42.10896040079032], [-70.60654736254261, 42.068820134275995], [-70.66043691691601, 42.068820134275995]]], &quot;type&quot;: &quot;Polygon&quot;}, &quot;id&quot;: &quot;1183&quot;, &quot;properties&quot;: {&quot;area_km2&quot;: 22.691954066291846, &quot;identifier&quot;: &quot;036baa35ffe0c&quot;, &quot;split&quot;: &quot;train&quot;}, &quot;type&quot;: &quot;Feature&quot;}, {&quot;bbox&quot;: [-71.69506216122105, 42.62334029095502, -71.64058216609322, 42.66356109040786], &quot;geometry&quot;: {&quot;coordinates&quot;: [[[-71.69506216122105, 42.62334029095502], [-71.69506216122105, 42.66356109040786], [-71.64058216609322, 42.66356109040786], [-71.64058216609322, 42.62334029095502], [-71.69506216122105, 42.62334029095502]]], &quot;type&quot;: &quot;Polygon&quot;}, &quot;id&quot;: &quot;624&quot;, &quot;properties&quot;: {&quot;area_km2&quot;: 22.523179134862914, &quot;identifier&quot;: &quot;015084acbf7dc&quot;, &quot;split&quot;: &quot;train&quot;}, &quot;type&quot;: &quot;Feature&quot;}], &quot;type&quot;: &quot;FeatureCollection&quot;});\n",
       "\n",
       "        \n",
       "    \n",
       "    geo_json_40ddffc15d854884de2e283d8dcf3d10.bindTooltip(\n",
       "    function(layer){\n",
       "    let div = L.DomUtil.create(&#x27;div&#x27;);\n",
       "    \n",
       "    let handleObject = feature=&gt;typeof(feature)==&#x27;object&#x27; ? JSON.stringify(feature) : feature;\n",
       "    let fields = [&quot;area_km2&quot;, &quot;identifier&quot;, &quot;split&quot;];\n",
       "    let aliases = [&quot;area_km2&quot;, &quot;identifier&quot;, &quot;split&quot;];\n",
       "    let table = &#x27;&lt;table&gt;&#x27; +\n",
       "        String(\n",
       "        fields.map(\n",
       "        (v,i)=&gt;\n",
       "        `&lt;tr&gt;\n",
       "            &lt;th&gt;${aliases[i]}&lt;/th&gt;\n",
       "            \n",
       "            &lt;td&gt;${handleObject(layer.feature.properties[v])}&lt;/td&gt;\n",
       "        &lt;/tr&gt;`).join(&#x27;&#x27;))\n",
       "    +&#x27;&lt;/table&gt;&#x27;;\n",
       "    div.innerHTML=table;\n",
       "    \n",
       "    return div\n",
       "    }\n",
       "    ,{&quot;className&quot;: &quot;foliumtooltip&quot;, &quot;sticky&quot;: true});\n",
       "                     \n",
       "&lt;/script&gt;\" style=\"position:absolute;width:100%;height:100%;left:0;top:0;border:none !important;\" allowfullscreen webkitallowfullscreen mozallowfullscreen></iframe></div></div>"
      ],
      "text/plain": [
       "<folium.folium.Map at 0x7fb39c627c10>"
      ]
     },
     "execution_count": 86,
     "metadata": {},
     "output_type": "execute_result"
    }
   ],
   "source": [
    "myarea_selected.explore()"
   ]
  },
  {
   "cell_type": "markdown",
   "id": "a2a8adbd-1830-4003-a123-787c9dc6775b",
   "metadata": {},
   "source": [
    "## Download the corresponding chip files for each dataset\n",
    "\n",
    "observe that some datasets are stored in `geotif` and others as `netcdf`"
   ]
  },
  {
   "cell_type": "code",
   "execution_count": 87,
   "id": "af1a5463-9f01-451d-93cc-e6aab45c3775",
   "metadata": {},
   "outputs": [],
   "source": [
    "# store the file list in a temp file\n",
    "tmpfile = f\"{tempfile.gettempdir()}/{np.random.randint(100000)}\"\n",
    "with open(tmpfile, \"w\") as f :\n",
    "    f.write(\"\\n\".join([f\"{uri}/{chipid}.*\" for chipid in chipids]))"
   ]
  },
  {
   "cell_type": "code",
   "execution_count": 92,
   "id": "8aa206df-6e65-4368-8fe6-1e71c3193770",
   "metadata": {},
   "outputs": [
    {
     "name": "stdout",
     "output_type": "stream",
     "text": [
      "\n",
      "\n",
      "-----------\n",
      "downloading biomass-2020\n",
      "\n",
      "Copying gs://fdl2023-sar-datasets/conus/conus_partitions_aschips_293d95e3ee589/biomass-2020/01be220189f77.nc...\n",
      "Copying gs://fdl2023-sar-datasets/conus/conus_partitions_aschips_293d95e3ee589/biomass-2020/2c1a7f33fb7ff.nc...\n",
      "Copying gs://fdl2023-sar-datasets/conus/conus_partitions_aschips_293d95e3ee589/biomass-2020/1f864ff2de2ff.nc...\n",
      "Copying gs://fdl2023-sar-datasets/conus/conus_partitions_aschips_293d95e3ee589/biomass-2020/115145c182573.nc...\n",
      "Copying gs://fdl2023-sar-datasets/conus/conus_partitions_aschips_293d95e3ee589/biomass-2020/2dbe6ebf00c92.nc...\n",
      "Copying gs://fdl2023-sar-datasets/conus/conus_partitions_aschips_293d95e3ee589/biomass-2020/29301012c742e.nc...\n",
      "Copying gs://fdl2023-sar-datasets/conus/conus_partitions_aschips_293d95e3ee589/biomass-2020/22be8f11396fe.nc...\n",
      "Copying gs://fdl2023-sar-datasets/conus/conus_partitions_aschips_293d95e3ee589/biomass-2020/0f6826d7f42c7.nc...\n",
      "Copying gs://fdl2023-sar-datasets/conus/conus_partitions_aschips_293d95e3ee589/biomass-2020/2b1f1cb4cc852.nc...\n",
      "Copying gs://fdl2023-sar-datasets/conus/conus_partitions_aschips_293d95e3ee589/biomass-2020/2f666401552e1.nc...\n",
      "Copying gs://fdl2023-sar-datasets/conus/conus_partitions_aschips_293d95e3ee589/biomass-2020/1cad5365f7d3b.nc...\n",
      "Copying gs://fdl2023-sar-datasets/conus/conus_partitions_aschips_293d95e3ee589/biomass-2020/0b0999359260d.nc...\n",
      "Copying gs://fdl2023-sar-datasets/conus/conus_partitions_aschips_293d95e3ee589/biomass-2020/2cfcab146184e.nc...\n",
      "Copying gs://fdl2023-sar-datasets/conus/conus_partitions_aschips_293d95e3ee589/biomass-2020/1122d72bf5929.nc...\n",
      "Copying gs://fdl2023-sar-datasets/conus/conus_partitions_aschips_293d95e3ee589/biomass-2020/303ca2a9aeb4f.nc...\n",
      "Copying gs://fdl2023-sar-datasets/conus/conus_partitions_aschips_293d95e3ee589/biomass-2020/072e3a06bc49e.nc...\n",
      "Copying gs://fdl2023-sar-datasets/conus/conus_partitions_aschips_293d95e3ee589/biomass-2020/07d00d673c2bd.nc...\n",
      "Copying gs://fdl2023-sar-datasets/conus/conus_partitions_aschips_293d95e3ee589/biomass-2020/2fd48447443e1.nc...\n",
      "Copying gs://fdl2023-sar-datasets/conus/conus_partitions_aschips_293d95e3ee589/biomass-2020/036baa35ffe0c.nc...\n",
      "Copying gs://fdl2023-sar-datasets/conus/conus_partitions_aschips_293d95e3ee589/biomass-2020/015084acbf7dc.nc...\n",
      "/ [20/20 files][  1.0 MiB/  1.0 MiB] 100% Done                                  \n",
      "Operation completed over 20 objects/1.0 MiB.                                     \n",
      "\n",
      "\n",
      "-----------\n",
      "downloading esaworldcover-2020\n",
      "\n",
      "Copying gs://fdl2023-sar-datasets/conus/conus_partitions_aschips_293d95e3ee589/esaworldcover-2020/01be220189f77.tif...\n",
      "Copying gs://fdl2023-sar-datasets/conus/conus_partitions_aschips_293d95e3ee589/esaworldcover-2020/2c1a7f33fb7ff.tif...\n",
      "Copying gs://fdl2023-sar-datasets/conus/conus_partitions_aschips_293d95e3ee589/esaworldcover-2020/1f864ff2de2ff.tif...\n",
      "Copying gs://fdl2023-sar-datasets/conus/conus_partitions_aschips_293d95e3ee589/esaworldcover-2020/115145c182573.tif...\n",
      "Copying gs://fdl2023-sar-datasets/conus/conus_partitions_aschips_293d95e3ee589/esaworldcover-2020/2dbe6ebf00c92.tif...\n",
      "Copying gs://fdl2023-sar-datasets/conus/conus_partitions_aschips_293d95e3ee589/esaworldcover-2020/29301012c742e.tif...\n",
      "Copying gs://fdl2023-sar-datasets/conus/conus_partitions_aschips_293d95e3ee589/esaworldcover-2020/22be8f11396fe.tif...\n",
      "Copying gs://fdl2023-sar-datasets/conus/conus_partitions_aschips_293d95e3ee589/esaworldcover-2020/0f6826d7f42c7.tif...\n",
      "Copying gs://fdl2023-sar-datasets/conus/conus_partitions_aschips_293d95e3ee589/esaworldcover-2020/2b1f1cb4cc852.tif...\n",
      "Copying gs://fdl2023-sar-datasets/conus/conus_partitions_aschips_293d95e3ee589/esaworldcover-2020/2f666401552e1.tif...\n",
      "Copying gs://fdl2023-sar-datasets/conus/conus_partitions_aschips_293d95e3ee589/esaworldcover-2020/1cad5365f7d3b.tif...\n",
      "Copying gs://fdl2023-sar-datasets/conus/conus_partitions_aschips_293d95e3ee589/esaworldcover-2020/0b0999359260d.tif...\n",
      "Copying gs://fdl2023-sar-datasets/conus/conus_partitions_aschips_293d95e3ee589/esaworldcover-2020/2cfcab146184e.tif...\n",
      "Copying gs://fdl2023-sar-datasets/conus/conus_partitions_aschips_293d95e3ee589/esaworldcover-2020/1122d72bf5929.tif...\n",
      "Copying gs://fdl2023-sar-datasets/conus/conus_partitions_aschips_293d95e3ee589/esaworldcover-2020/303ca2a9aeb4f.tif...\n",
      "Copying gs://fdl2023-sar-datasets/conus/conus_partitions_aschips_293d95e3ee589/esaworldcover-2020/072e3a06bc49e.tif...\n",
      "Copying gs://fdl2023-sar-datasets/conus/conus_partitions_aschips_293d95e3ee589/esaworldcover-2020/07d00d673c2bd.tif...\n",
      "Copying gs://fdl2023-sar-datasets/conus/conus_partitions_aschips_293d95e3ee589/esaworldcover-2020/2fd48447443e1.tif...\n",
      "Copying gs://fdl2023-sar-datasets/conus/conus_partitions_aschips_293d95e3ee589/esaworldcover-2020/036baa35ffe0c.tif...\n",
      "Copying gs://fdl2023-sar-datasets/conus/conus_partitions_aschips_293d95e3ee589/esaworldcover-2020/015084acbf7dc.tif...\n",
      "\\ [20/20 files][  3.8 MiB/  3.8 MiB] 100% Done                                  \n",
      "Operation completed over 20 objects/3.8 MiB.                                     \n",
      "\n",
      "\n",
      "-----------\n",
      "downloading gunw_2020-01-01_2020-03-31\n",
      "\n",
      "Copying gs://fdl2023-sar-datasets/conus/conus_partitions_aschips_293d95e3ee589/gunw_2020-01-01_2020-03-31/01be220189f77.nc...\n",
      "Copying gs://fdl2023-sar-datasets/conus/conus_partitions_aschips_293d95e3ee589/gunw_2020-01-01_2020-03-31/2c1a7f33fb7ff.nc...\n",
      "Copying gs://fdl2023-sar-datasets/conus/conus_partitions_aschips_293d95e3ee589/gunw_2020-01-01_2020-03-31/1f864ff2de2ff.nc...\n",
      "Copying gs://fdl2023-sar-datasets/conus/conus_partitions_aschips_293d95e3ee589/gunw_2020-01-01_2020-03-31/115145c182573.nc...\n",
      "Copying gs://fdl2023-sar-datasets/conus/conus_partitions_aschips_293d95e3ee589/gunw_2020-01-01_2020-03-31/2dbe6ebf00c92.nc...\n",
      "Copying gs://fdl2023-sar-datasets/conus/conus_partitions_aschips_293d95e3ee589/gunw_2020-01-01_2020-03-31/29301012c742e.nc...\n",
      "Copying gs://fdl2023-sar-datasets/conus/conus_partitions_aschips_293d95e3ee589/gunw_2020-01-01_2020-03-31/22be8f11396fe.nc...\n",
      "Copying gs://fdl2023-sar-datasets/conus/conus_partitions_aschips_293d95e3ee589/gunw_2020-01-01_2020-03-31/0f6826d7f42c7.nc...\n",
      "Copying gs://fdl2023-sar-datasets/conus/conus_partitions_aschips_293d95e3ee589/gunw_2020-01-01_2020-03-31/2b1f1cb4cc852.nc...\n",
      "Copying gs://fdl2023-sar-datasets/conus/conus_partitions_aschips_293d95e3ee589/gunw_2020-01-01_2020-03-31/2f666401552e1.nc...\n",
      "Copying gs://fdl2023-sar-datasets/conus/conus_partitions_aschips_293d95e3ee589/gunw_2020-01-01_2020-03-31/1cad5365f7d3b.nc...\n",
      "Copying gs://fdl2023-sar-datasets/conus/conus_partitions_aschips_293d95e3ee589/gunw_2020-01-01_2020-03-31/0b0999359260d.nc...\n",
      "Copying gs://fdl2023-sar-datasets/conus/conus_partitions_aschips_293d95e3ee589/gunw_2020-01-01_2020-03-31/2cfcab146184e.nc...\n",
      "Copying gs://fdl2023-sar-datasets/conus/conus_partitions_aschips_293d95e3ee589/gunw_2020-01-01_2020-03-31/1122d72bf5929.nc...\n",
      "Copying gs://fdl2023-sar-datasets/conus/conus_partitions_aschips_293d95e3ee589/gunw_2020-01-01_2020-03-31/303ca2a9aeb4f.nc...\n",
      "Copying gs://fdl2023-sar-datasets/conus/conus_partitions_aschips_293d95e3ee589/gunw_2020-01-01_2020-03-31/072e3a06bc49e.nc...\n",
      "Copying gs://fdl2023-sar-datasets/conus/conus_partitions_aschips_293d95e3ee589/gunw_2020-01-01_2020-03-31/07d00d673c2bd.nc...\n",
      "Copying gs://fdl2023-sar-datasets/conus/conus_partitions_aschips_293d95e3ee589/gunw_2020-01-01_2020-03-31/2fd48447443e1.nc...\n",
      "Copying gs://fdl2023-sar-datasets/conus/conus_partitions_aschips_293d95e3ee589/gunw_2020-01-01_2020-03-31/036baa35ffe0c.nc...\n",
      "Copying gs://fdl2023-sar-datasets/conus/conus_partitions_aschips_293d95e3ee589/gunw_2020-01-01_2020-03-31/015084acbf7dc.nc...\n",
      "\\ [20/20 files][ 21.0 MiB/ 21.0 MiB] 100% Done                                  \n",
      "Operation completed over 20 objects/21.0 MiB.                                    \n",
      "\n",
      "\n",
      "-----------\n",
      "downloading s1grd-2020\n",
      "\n",
      "Copying gs://fdl2023-sar-datasets/conus/conus_partitions_aschips_293d95e3ee589/s1grd-2020/01be220189f77.tif...\n",
      "Copying gs://fdl2023-sar-datasets/conus/conus_partitions_aschips_293d95e3ee589/s1grd-2020/2c1a7f33fb7ff.tif...\n",
      "Copying gs://fdl2023-sar-datasets/conus/conus_partitions_aschips_293d95e3ee589/s1grd-2020/1f864ff2de2ff.tif...\n",
      "Copying gs://fdl2023-sar-datasets/conus/conus_partitions_aschips_293d95e3ee589/s1grd-2020/115145c182573.tif...\n",
      "Copying gs://fdl2023-sar-datasets/conus/conus_partitions_aschips_293d95e3ee589/s1grd-2020/2dbe6ebf00c92.tif...\n",
      "Copying gs://fdl2023-sar-datasets/conus/conus_partitions_aschips_293d95e3ee589/s1grd-2020/29301012c742e.tif...\n",
      "Copying gs://fdl2023-sar-datasets/conus/conus_partitions_aschips_293d95e3ee589/s1grd-2020/22be8f11396fe.tif...\n",
      "Copying gs://fdl2023-sar-datasets/conus/conus_partitions_aschips_293d95e3ee589/s1grd-2020/0f6826d7f42c7.tif...\n",
      "Copying gs://fdl2023-sar-datasets/conus/conus_partitions_aschips_293d95e3ee589/s1grd-2020/2b1f1cb4cc852.tif...\n",
      "Copying gs://fdl2023-sar-datasets/conus/conus_partitions_aschips_293d95e3ee589/s1grd-2020/2f666401552e1.tif...\n",
      "Copying gs://fdl2023-sar-datasets/conus/conus_partitions_aschips_293d95e3ee589/s1grd-2020/1cad5365f7d3b.tif...\n",
      "Copying gs://fdl2023-sar-datasets/conus/conus_partitions_aschips_293d95e3ee589/s1grd-2020/0b0999359260d.tif...\n",
      "Copying gs://fdl2023-sar-datasets/conus/conus_partitions_aschips_293d95e3ee589/s1grd-2020/2cfcab146184e.tif...\n",
      "Copying gs://fdl2023-sar-datasets/conus/conus_partitions_aschips_293d95e3ee589/s1grd-2020/1122d72bf5929.tif...\n",
      "Copying gs://fdl2023-sar-datasets/conus/conus_partitions_aschips_293d95e3ee589/s1grd-2020/303ca2a9aeb4f.tif...\n",
      "Copying gs://fdl2023-sar-datasets/conus/conus_partitions_aschips_293d95e3ee589/s1grd-2020/072e3a06bc49e.tif...\n",
      "Copying gs://fdl2023-sar-datasets/conus/conus_partitions_aschips_293d95e3ee589/s1grd-2020/07d00d673c2bd.tif...\n",
      "Copying gs://fdl2023-sar-datasets/conus/conus_partitions_aschips_293d95e3ee589/s1grd-2020/2fd48447443e1.tif...\n",
      "Copying gs://fdl2023-sar-datasets/conus/conus_partitions_aschips_293d95e3ee589/s1grd-2020/036baa35ffe0c.tif...\n",
      "Copying gs://fdl2023-sar-datasets/conus/conus_partitions_aschips_293d95e3ee589/s1grd-2020/015084acbf7dc.tif...\n",
      "- [20/20 files][122.6 MiB/122.6 MiB] 100% Done   2.3 MiB/s ETA 00:00:00         \n",
      "Operation completed over 20 objects/122.6 MiB.                                   \n",
      "\n",
      "\n",
      "-----------\n",
      "downloading s2rgbm-2020\n",
      "\n",
      "Copying gs://fdl2023-sar-datasets/conus/conus_partitions_aschips_293d95e3ee589/s2rgbm-2020/01be220189f77.tif...\n",
      "Copying gs://fdl2023-sar-datasets/conus/conus_partitions_aschips_293d95e3ee589/s2rgbm-2020/2c1a7f33fb7ff.tif...\n",
      "Copying gs://fdl2023-sar-datasets/conus/conus_partitions_aschips_293d95e3ee589/s2rgbm-2020/1f864ff2de2ff.tif...\n",
      "Copying gs://fdl2023-sar-datasets/conus/conus_partitions_aschips_293d95e3ee589/s2rgbm-2020/115145c182573.tif...\n",
      "Copying gs://fdl2023-sar-datasets/conus/conus_partitions_aschips_293d95e3ee589/s2rgbm-2020/2dbe6ebf00c92.tif...\n",
      "Copying gs://fdl2023-sar-datasets/conus/conus_partitions_aschips_293d95e3ee589/s2rgbm-2020/29301012c742e.tif...\n",
      "Copying gs://fdl2023-sar-datasets/conus/conus_partitions_aschips_293d95e3ee589/s2rgbm-2020/22be8f11396fe.tif...\n",
      "Copying gs://fdl2023-sar-datasets/conus/conus_partitions_aschips_293d95e3ee589/s2rgbm-2020/0f6826d7f42c7.tif...\n",
      "Copying gs://fdl2023-sar-datasets/conus/conus_partitions_aschips_293d95e3ee589/s2rgbm-2020/2b1f1cb4cc852.tif...\n",
      "Copying gs://fdl2023-sar-datasets/conus/conus_partitions_aschips_293d95e3ee589/s2rgbm-2020/2f666401552e1.tif...\n",
      "Copying gs://fdl2023-sar-datasets/conus/conus_partitions_aschips_293d95e3ee589/s2rgbm-2020/1cad5365f7d3b.tif...\n",
      "Copying gs://fdl2023-sar-datasets/conus/conus_partitions_aschips_293d95e3ee589/s2rgbm-2020/0b0999359260d.tif...\n",
      "Copying gs://fdl2023-sar-datasets/conus/conus_partitions_aschips_293d95e3ee589/s2rgbm-2020/2cfcab146184e.tif...\n",
      "Copying gs://fdl2023-sar-datasets/conus/conus_partitions_aschips_293d95e3ee589/s2rgbm-2020/1122d72bf5929.tif...\n",
      "Copying gs://fdl2023-sar-datasets/conus/conus_partitions_aschips_293d95e3ee589/s2rgbm-2020/303ca2a9aeb4f.tif...\n",
      "Copying gs://fdl2023-sar-datasets/conus/conus_partitions_aschips_293d95e3ee589/s2rgbm-2020/072e3a06bc49e.tif...\n",
      "Copying gs://fdl2023-sar-datasets/conus/conus_partitions_aschips_293d95e3ee589/s2rgbm-2020/07d00d673c2bd.tif...\n",
      "Copying gs://fdl2023-sar-datasets/conus/conus_partitions_aschips_293d95e3ee589/s2rgbm-2020/2fd48447443e1.tif...\n",
      "Copying gs://fdl2023-sar-datasets/conus/conus_partitions_aschips_293d95e3ee589/s2rgbm-2020/036baa35ffe0c.tif...\n",
      "Copying gs://fdl2023-sar-datasets/conus/conus_partitions_aschips_293d95e3ee589/s2rgbm-2020/015084acbf7dc.tif...\n",
      "| [20/20 files][137.9 MiB/137.9 MiB] 100% Done   3.6 MiB/s ETA 00:00:00         \n",
      "Operation completed over 20 objects/137.9 MiB.                                   \n",
      "\n",
      "\n",
      "-----------\n",
      "downloading strmdem\n",
      "\n",
      "Copying gs://fdl2023-sar-datasets/conus/conus_partitions_aschips_293d95e3ee589/strmdem/01be220189f77.tif...\n",
      "Copying gs://fdl2023-sar-datasets/conus/conus_partitions_aschips_293d95e3ee589/strmdem/2c1a7f33fb7ff.tif...\n",
      "Copying gs://fdl2023-sar-datasets/conus/conus_partitions_aschips_293d95e3ee589/strmdem/1f864ff2de2ff.tif...\n",
      "Copying gs://fdl2023-sar-datasets/conus/conus_partitions_aschips_293d95e3ee589/strmdem/115145c182573.tif...\n",
      "Copying gs://fdl2023-sar-datasets/conus/conus_partitions_aschips_293d95e3ee589/strmdem/2dbe6ebf00c92.tif...\n",
      "Copying gs://fdl2023-sar-datasets/conus/conus_partitions_aschips_293d95e3ee589/strmdem/29301012c742e.tif...\n",
      "Copying gs://fdl2023-sar-datasets/conus/conus_partitions_aschips_293d95e3ee589/strmdem/22be8f11396fe.tif...\n",
      "Copying gs://fdl2023-sar-datasets/conus/conus_partitions_aschips_293d95e3ee589/strmdem/0f6826d7f42c7.tif...\n",
      "Copying gs://fdl2023-sar-datasets/conus/conus_partitions_aschips_293d95e3ee589/strmdem/2b1f1cb4cc852.tif...\n",
      "Copying gs://fdl2023-sar-datasets/conus/conus_partitions_aschips_293d95e3ee589/strmdem/2f666401552e1.tif...\n",
      "Copying gs://fdl2023-sar-datasets/conus/conus_partitions_aschips_293d95e3ee589/strmdem/1cad5365f7d3b.tif...\n",
      "Copying gs://fdl2023-sar-datasets/conus/conus_partitions_aschips_293d95e3ee589/strmdem/0b0999359260d.tif...\n",
      "Copying gs://fdl2023-sar-datasets/conus/conus_partitions_aschips_293d95e3ee589/strmdem/2cfcab146184e.tif...\n",
      "Copying gs://fdl2023-sar-datasets/conus/conus_partitions_aschips_293d95e3ee589/strmdem/1122d72bf5929.tif...\n",
      "Copying gs://fdl2023-sar-datasets/conus/conus_partitions_aschips_293d95e3ee589/strmdem/303ca2a9aeb4f.tif...\n",
      "Copying gs://fdl2023-sar-datasets/conus/conus_partitions_aschips_293d95e3ee589/strmdem/072e3a06bc49e.tif...\n",
      "Copying gs://fdl2023-sar-datasets/conus/conus_partitions_aschips_293d95e3ee589/strmdem/07d00d673c2bd.tif...\n",
      "Copying gs://fdl2023-sar-datasets/conus/conus_partitions_aschips_293d95e3ee589/strmdem/2fd48447443e1.tif...\n",
      "Copying gs://fdl2023-sar-datasets/conus/conus_partitions_aschips_293d95e3ee589/strmdem/036baa35ffe0c.tif...\n",
      "Copying gs://fdl2023-sar-datasets/conus/conus_partitions_aschips_293d95e3ee589/strmdem/015084acbf7dc.tif...\n",
      "\\ [20/20 files][ 15.3 MiB/ 15.3 MiB] 100% Done                                  \n",
      "Operation completed over 20 objects/15.3 MiB.                                    \n",
      "\n",
      "\n",
      "-----------\n",
      "downloading modis44b006veg\n",
      "\n",
      "Copying gs://fdl2023-sar-datasets/conus/conus_partitions_aschips_293d95e3ee589/modis44b006veg/01be220189f77.tif...\n",
      "Copying gs://fdl2023-sar-datasets/conus/conus_partitions_aschips_293d95e3ee589/modis44b006veg/2c1a7f33fb7ff.tif...\n",
      "Copying gs://fdl2023-sar-datasets/conus/conus_partitions_aschips_293d95e3ee589/modis44b006veg/1f864ff2de2ff.tif...\n",
      "Copying gs://fdl2023-sar-datasets/conus/conus_partitions_aschips_293d95e3ee589/modis44b006veg/115145c182573.tif...\n",
      "Copying gs://fdl2023-sar-datasets/conus/conus_partitions_aschips_293d95e3ee589/modis44b006veg/2dbe6ebf00c92.tif...\n",
      "Copying gs://fdl2023-sar-datasets/conus/conus_partitions_aschips_293d95e3ee589/modis44b006veg/29301012c742e.tif...\n",
      "Copying gs://fdl2023-sar-datasets/conus/conus_partitions_aschips_293d95e3ee589/modis44b006veg/22be8f11396fe.tif...\n",
      "Copying gs://fdl2023-sar-datasets/conus/conus_partitions_aschips_293d95e3ee589/modis44b006veg/0f6826d7f42c7.tif...\n",
      "Copying gs://fdl2023-sar-datasets/conus/conus_partitions_aschips_293d95e3ee589/modis44b006veg/2b1f1cb4cc852.tif...\n",
      "Copying gs://fdl2023-sar-datasets/conus/conus_partitions_aschips_293d95e3ee589/modis44b006veg/2f666401552e1.tif...\n",
      "Copying gs://fdl2023-sar-datasets/conus/conus_partitions_aschips_293d95e3ee589/modis44b006veg/1cad5365f7d3b.tif...\n",
      "Copying gs://fdl2023-sar-datasets/conus/conus_partitions_aschips_293d95e3ee589/modis44b006veg/0b0999359260d.tif...\n",
      "Copying gs://fdl2023-sar-datasets/conus/conus_partitions_aschips_293d95e3ee589/modis44b006veg/2cfcab146184e.tif...\n",
      "Copying gs://fdl2023-sar-datasets/conus/conus_partitions_aschips_293d95e3ee589/modis44b006veg/1122d72bf5929.tif...\n",
      "Copying gs://fdl2023-sar-datasets/conus/conus_partitions_aschips_293d95e3ee589/modis44b006veg/303ca2a9aeb4f.tif...\n",
      "Copying gs://fdl2023-sar-datasets/conus/conus_partitions_aschips_293d95e3ee589/modis44b006veg/072e3a06bc49e.tif...\n",
      "Copying gs://fdl2023-sar-datasets/conus/conus_partitions_aschips_293d95e3ee589/modis44b006veg/07d00d673c2bd.tif...\n",
      "Copying gs://fdl2023-sar-datasets/conus/conus_partitions_aschips_293d95e3ee589/modis44b006veg/2fd48447443e1.tif...\n",
      "Copying gs://fdl2023-sar-datasets/conus/conus_partitions_aschips_293d95e3ee589/modis44b006veg/036baa35ffe0c.tif...\n",
      "Copying gs://fdl2023-sar-datasets/conus/conus_partitions_aschips_293d95e3ee589/modis44b006veg/015084acbf7dc.tif...\n",
      "\\ [20/20 files][ 19.2 MiB/ 19.2 MiB] 100% Done                                  \n",
      "Operation completed over 20 objects/19.2 MiB.                                    \n",
      "\n",
      "\n",
      "-----------\n",
      "downloading ghsbuilts-2020\n",
      "\n",
      "Copying gs://fdl2023-sar-datasets/conus/conus_partitions_aschips_293d95e3ee589/ghsbuilts-2020/01be220189f77.tif...\n",
      "Copying gs://fdl2023-sar-datasets/conus/conus_partitions_aschips_293d95e3ee589/ghsbuilts-2020/2c1a7f33fb7ff.tif...\n",
      "Copying gs://fdl2023-sar-datasets/conus/conus_partitions_aschips_293d95e3ee589/ghsbuilts-2020/1f864ff2de2ff.tif...\n",
      "Copying gs://fdl2023-sar-datasets/conus/conus_partitions_aschips_293d95e3ee589/ghsbuilts-2020/115145c182573.tif...\n",
      "Copying gs://fdl2023-sar-datasets/conus/conus_partitions_aschips_293d95e3ee589/ghsbuilts-2020/2dbe6ebf00c92.tif...\n",
      "Copying gs://fdl2023-sar-datasets/conus/conus_partitions_aschips_293d95e3ee589/ghsbuilts-2020/29301012c742e.tif...\n",
      "Copying gs://fdl2023-sar-datasets/conus/conus_partitions_aschips_293d95e3ee589/ghsbuilts-2020/22be8f11396fe.tif...\n",
      "Copying gs://fdl2023-sar-datasets/conus/conus_partitions_aschips_293d95e3ee589/ghsbuilts-2020/0f6826d7f42c7.tif...\n",
      "Copying gs://fdl2023-sar-datasets/conus/conus_partitions_aschips_293d95e3ee589/ghsbuilts-2020/2b1f1cb4cc852.tif...\n",
      "Copying gs://fdl2023-sar-datasets/conus/conus_partitions_aschips_293d95e3ee589/ghsbuilts-2020/2f666401552e1.tif...\n",
      "Copying gs://fdl2023-sar-datasets/conus/conus_partitions_aschips_293d95e3ee589/ghsbuilts-2020/1cad5365f7d3b.tif...\n",
      "Copying gs://fdl2023-sar-datasets/conus/conus_partitions_aschips_293d95e3ee589/ghsbuilts-2020/0b0999359260d.tif...\n",
      "Copying gs://fdl2023-sar-datasets/conus/conus_partitions_aschips_293d95e3ee589/ghsbuilts-2020/2cfcab146184e.tif...\n",
      "Copying gs://fdl2023-sar-datasets/conus/conus_partitions_aschips_293d95e3ee589/ghsbuilts-2020/1122d72bf5929.tif...\n",
      "Copying gs://fdl2023-sar-datasets/conus/conus_partitions_aschips_293d95e3ee589/ghsbuilts-2020/303ca2a9aeb4f.tif...\n",
      "Copying gs://fdl2023-sar-datasets/conus/conus_partitions_aschips_293d95e3ee589/ghsbuilts-2020/072e3a06bc49e.tif...\n",
      "Copying gs://fdl2023-sar-datasets/conus/conus_partitions_aschips_293d95e3ee589/ghsbuilts-2020/07d00d673c2bd.tif...\n",
      "Copying gs://fdl2023-sar-datasets/conus/conus_partitions_aschips_293d95e3ee589/ghsbuilts-2020/2fd48447443e1.tif...\n",
      "Copying gs://fdl2023-sar-datasets/conus/conus_partitions_aschips_293d95e3ee589/ghsbuilts-2020/036baa35ffe0c.tif...\n",
      "Copying gs://fdl2023-sar-datasets/conus/conus_partitions_aschips_293d95e3ee589/ghsbuilts-2020/015084acbf7dc.tif...\n",
      "/ [20/20 files][ 50.5 KiB/ 50.5 KiB] 100% Done                                  \n",
      "Operation completed over 20 objects/50.5 KiB.                                    \n",
      "\n",
      "\n",
      "-----------\n",
      "downloading firecci51\n",
      "\n",
      "CommandException: No URLs matched: gs://fdl2023-sar-datasets/conus/conus_partitions_aschips_293d95e3ee589/firecci51/01be220189f77.*\n",
      "CommandException: No URLs matched: gs://fdl2023-sar-datasets/conus/conus_partitions_aschips_293d95e3ee589/firecci51/2c1a7f33fb7ff.*\n",
      "CommandException: No URLs matched: gs://fdl2023-sar-datasets/conus/conus_partitions_aschips_293d95e3ee589/firecci51/1f864ff2de2ff.*\n",
      "CommandException: No URLs matched: gs://fdl2023-sar-datasets/conus/conus_partitions_aschips_293d95e3ee589/firecci51/115145c182573.*\n",
      "CommandException: No URLs matched: gs://fdl2023-sar-datasets/conus/conus_partitions_aschips_293d95e3ee589/firecci51/2dbe6ebf00c92.*\n",
      "CommandException: No URLs matched: gs://fdl2023-sar-datasets/conus/conus_partitions_aschips_293d95e3ee589/firecci51/29301012c742e.*\n",
      "CommandException: No URLs matched: gs://fdl2023-sar-datasets/conus/conus_partitions_aschips_293d95e3ee589/firecci51/22be8f11396fe.*\n",
      "CommandException: No URLs matched: gs://fdl2023-sar-datasets/conus/conus_partitions_aschips_293d95e3ee589/firecci51/0f6826d7f42c7.*\n",
      "CommandException: No URLs matched: gs://fdl2023-sar-datasets/conus/conus_partitions_aschips_293d95e3ee589/firecci51/2b1f1cb4cc852.*\n",
      "CommandException: No URLs matched: gs://fdl2023-sar-datasets/conus/conus_partitions_aschips_293d95e3ee589/firecci51/2f666401552e1.*\n",
      "CommandException: No URLs matched: gs://fdl2023-sar-datasets/conus/conus_partitions_aschips_293d95e3ee589/firecci51/1cad5365f7d3b.*\n",
      "CommandException: No URLs matched: gs://fdl2023-sar-datasets/conus/conus_partitions_aschips_293d95e3ee589/firecci51/0b0999359260d.*\n",
      "CommandException: No URLs matched: gs://fdl2023-sar-datasets/conus/conus_partitions_aschips_293d95e3ee589/firecci51/2cfcab146184e.*\n",
      "CommandException: No URLs matched: gs://fdl2023-sar-datasets/conus/conus_partitions_aschips_293d95e3ee589/firecci51/1122d72bf5929.*\n",
      "CommandException: No URLs matched: gs://fdl2023-sar-datasets/conus/conus_partitions_aschips_293d95e3ee589/firecci51/303ca2a9aeb4f.*\n",
      "CommandException: No URLs matched: gs://fdl2023-sar-datasets/conus/conus_partitions_aschips_293d95e3ee589/firecci51/072e3a06bc49e.*\n",
      "CommandException: No URLs matched: gs://fdl2023-sar-datasets/conus/conus_partitions_aschips_293d95e3ee589/firecci51/07d00d673c2bd.*\n",
      "CommandException: No URLs matched: gs://fdl2023-sar-datasets/conus/conus_partitions_aschips_293d95e3ee589/firecci51/2fd48447443e1.*\n",
      "CommandException: No URLs matched: gs://fdl2023-sar-datasets/conus/conus_partitions_aschips_293d95e3ee589/firecci51/036baa35ffe0c.*\n",
      "CommandException: No URLs matched: gs://fdl2023-sar-datasets/conus/conus_partitions_aschips_293d95e3ee589/firecci51/015084acbf7dc.*\n",
      "CommandException: 20 files/objects could not be transferred.\n",
      "\n",
      "\n",
      "-----------\n",
      "downloading gssic\n",
      "\n",
      "Skipping existing item: file://data/conus_partitions_aschips_293d95e3ee589/gssic/01be220189f77.nc\n",
      "Skipping existing item: file://data/conus_partitions_aschips_293d95e3ee589/gssic/2c1a7f33fb7ff.nc\n",
      "Skipping existing item: file://data/conus_partitions_aschips_293d95e3ee589/gssic/1f864ff2de2ff.nc\n",
      "Skipping existing item: file://data/conus_partitions_aschips_293d95e3ee589/gssic/115145c182573.nc\n",
      "Skipping existing item: file://data/conus_partitions_aschips_293d95e3ee589/gssic/2dbe6ebf00c92.nc\n",
      "Skipping existing item: file://data/conus_partitions_aschips_293d95e3ee589/gssic/29301012c742e.nc\n",
      "Skipping existing item: file://data/conus_partitions_aschips_293d95e3ee589/gssic/22be8f11396fe.nc\n",
      "Skipping existing item: file://data/conus_partitions_aschips_293d95e3ee589/gssic/0f6826d7f42c7.nc\n",
      "Skipping existing item: file://data/conus_partitions_aschips_293d95e3ee589/gssic/2b1f1cb4cc852.nc\n",
      "Skipping existing item: file://data/conus_partitions_aschips_293d95e3ee589/gssic/2f666401552e1.nc\n",
      "Skipping existing item: file://data/conus_partitions_aschips_293d95e3ee589/gssic/1cad5365f7d3b.nc\n",
      "Skipping existing item: file://data/conus_partitions_aschips_293d95e3ee589/gssic/0b0999359260d.nc\n",
      "Skipping existing item: file://data/conus_partitions_aschips_293d95e3ee589/gssic/2cfcab146184e.nc\n",
      "Skipping existing item: file://data/conus_partitions_aschips_293d95e3ee589/gssic/1122d72bf5929.nc\n",
      "Skipping existing item: file://data/conus_partitions_aschips_293d95e3ee589/gssic/303ca2a9aeb4f.nc\n",
      "Skipping existing item: file://data/conus_partitions_aschips_293d95e3ee589/gssic/072e3a06bc49e.nc\n",
      "Skipping existing item: file://data/conus_partitions_aschips_293d95e3ee589/gssic/07d00d673c2bd.nc\n",
      "Skipping existing item: file://data/conus_partitions_aschips_293d95e3ee589/gssic/2fd48447443e1.nc\n",
      "Skipping existing item: file://data/conus_partitions_aschips_293d95e3ee589/gssic/036baa35ffe0c.nc\n",
      "Skipping existing item: file://data/conus_partitions_aschips_293d95e3ee589/gssic/015084acbf7dc.nc\n"
     ]
    }
   ],
   "source": [
    "# prepare local dir\n",
    "dataset = datasets[0]\n",
    "\n",
    "for dataset in datasets:\n",
    "\n",
    "    print (f\"\\n\\n-----------\\ndownloading {dataset}\\n\")\n",
    "    \n",
    "    uri = f\"{datasets_uri}/{dataset}\"\n",
    "    localdest = f\"data/{datasets_folder}/{dataset}\"\n",
    "    !mkdir -p $localdest\n",
    "\n",
    "    # store the file list in a temp file\n",
    "    tmpfile = f\"{tempfile.gettempdir()}/{np.random.randint(100000)}\"\n",
    "    with open(tmpfile, \"w\") as f :\n",
    "        f.write(\"\\n\".join([f\"{uri}/{chipid}.*\" for chipid in chipids]))\n",
    "\n",
    "    # download files for dataset\n",
    "    !cat $tmpfile | gsutil -m cp -nc -I $localdest"
   ]
  },
  {
   "cell_type": "markdown",
   "id": "cfbcd378-b0f8-4be4-8d0f-0cfe3c61bc3b",
   "metadata": {},
   "source": [
    "## see downloaded sizes"
   ]
  },
  {
   "cell_type": "code",
   "execution_count": 62,
   "id": "649b0a6a-5b18-44bd-b526-0e53d853721c",
   "metadata": {},
   "outputs": [
    {
     "name": "stdout",
     "output_type": "stream",
     "text": [
      "2,1M\tdata/conus_partitions_aschips_293d95e3ee589/biomass-2020\n",
      "7,5M\tdata/conus_partitions_aschips_293d95e3ee589/esaworldcover-2020\n",
      "41M\tdata/conus_partitions_aschips_293d95e3ee589/gunw_2020-01-01_2020-03-31\n",
      "234M\tdata/conus_partitions_aschips_293d95e3ee589/s1grd-2020\n",
      "263M\tdata/conus_partitions_aschips_293d95e3ee589/s2rgbm-2020\n",
      "16M\tdata/conus_partitions_aschips_293d95e3ee589/strmdem\n"
     ]
    }
   ],
   "source": [
    "!du -hs data/$datasets_folder/*"
   ]
  },
  {
   "cell_type": "markdown",
   "id": "b62c035e-ea9d-46eb-8de7-54b758a6ebec",
   "metadata": {},
   "source": [
    "## firecci51 dataset\n",
    "\n",
    "this dataset only contains tiles where there were fires reported, so we select some tiles from the existing ones"
   ]
  },
  {
   "cell_type": "code",
   "execution_count": 94,
   "id": "0dc66c35-e7d9-46f2-b3ce-2ff94a2b4799",
   "metadata": {},
   "outputs": [],
   "source": [
    "uri = f\"{datasets_uri}/firecci51\"\n",
    "firechips = !gsutil ls $uri"
   ]
  },
  {
   "cell_type": "code",
   "execution_count": 97,
   "id": "4dd00494-a27f-4bc2-8feb-b6d2ce818acb",
   "metadata": {},
   "outputs": [
    {
     "data": {
      "text/plain": [
       "19138"
      ]
     },
     "execution_count": 97,
     "metadata": {},
     "output_type": "execute_result"
    }
   ],
   "source": [
    "firechips = np.r_[firechips]\n",
    "len(firechips)"
   ]
  },
  {
   "cell_type": "code",
   "execution_count": 99,
   "id": "04841736-7edb-4a84-8698-050acaa41441",
   "metadata": {},
   "outputs": [
    {
     "data": {
      "text/plain": [
       "array(['gs://fdl2023-sar-datasets/conus/conus_partitions_aschips_293d95e3ee589/firecci51/1dbc74c01afa1.tif',\n",
       "       'gs://fdl2023-sar-datasets/conus/conus_partitions_aschips_293d95e3ee589/firecci51/1b497cb779921.tif',\n",
       "       'gs://fdl2023-sar-datasets/conus/conus_partitions_aschips_293d95e3ee589/firecci51/2f3459e7942eb.tif',\n",
       "       'gs://fdl2023-sar-datasets/conus/conus_partitions_aschips_293d95e3ee589/firecci51/2c05448f11feb.tif',\n",
       "       'gs://fdl2023-sar-datasets/conus/conus_partitions_aschips_293d95e3ee589/firecci51/0d425e7fee762.tif',\n",
       "       'gs://fdl2023-sar-datasets/conus/conus_partitions_aschips_293d95e3ee589/firecci51/0d0b8b1146305.tif',\n",
       "       'gs://fdl2023-sar-datasets/conus/conus_partitions_aschips_293d95e3ee589/firecci51/354fe6b995ac6.tif',\n",
       "       'gs://fdl2023-sar-datasets/conus/conus_partitions_aschips_293d95e3ee589/firecci51/16428340014b5.tif',\n",
       "       'gs://fdl2023-sar-datasets/conus/conus_partitions_aschips_293d95e3ee589/firecci51/2422c7b4d4cb4.tif',\n",
       "       'gs://fdl2023-sar-datasets/conus/conus_partitions_aschips_293d95e3ee589/firecci51/301af36b62583.tif',\n",
       "       'gs://fdl2023-sar-datasets/conus/conus_partitions_aschips_293d95e3ee589/firecci51/0f2493e1cb16f.tif',\n",
       "       'gs://fdl2023-sar-datasets/conus/conus_partitions_aschips_293d95e3ee589/firecci51/12861b152ce67.tif',\n",
       "       'gs://fdl2023-sar-datasets/conus/conus_partitions_aschips_293d95e3ee589/firecci51/229c7baaf9d8a.tif',\n",
       "       'gs://fdl2023-sar-datasets/conus/conus_partitions_aschips_293d95e3ee589/firecci51/320cc532be946.tif',\n",
       "       'gs://fdl2023-sar-datasets/conus/conus_partitions_aschips_293d95e3ee589/firecci51/1a1446980befd.tif',\n",
       "       'gs://fdl2023-sar-datasets/conus/conus_partitions_aschips_293d95e3ee589/firecci51/35d20d489ab14.tif',\n",
       "       'gs://fdl2023-sar-datasets/conus/conus_partitions_aschips_293d95e3ee589/firecci51/03f46e7933833.tif',\n",
       "       'gs://fdl2023-sar-datasets/conus/conus_partitions_aschips_293d95e3ee589/firecci51/28d367fd0359c.tif',\n",
       "       'gs://fdl2023-sar-datasets/conus/conus_partitions_aschips_293d95e3ee589/firecci51/15f7c8d0fe28b.tif',\n",
       "       'gs://fdl2023-sar-datasets/conus/conus_partitions_aschips_293d95e3ee589/firecci51/0fbd9d6465bcd.tif'],\n",
       "      dtype='<U98')"
      ]
     },
     "execution_count": 99,
     "metadata": {},
     "output_type": "execute_result"
    }
   ],
   "source": [
    "firechips_selected = np.random.permutation(firechips)[:20]\n",
    "firechips_selected"
   ]
  },
  {
   "cell_type": "code",
   "execution_count": 102,
   "id": "376f08f7-9eec-4df6-a0f4-9951247c2a6d",
   "metadata": {},
   "outputs": [
    {
     "name": "stdout",
     "output_type": "stream",
     "text": [
      "\n",
      "\n",
      "-----------\n",
      "downloading firecci51\n",
      "\n",
      "Copying gs://fdl2023-sar-datasets/conus/conus_partitions_aschips_293d95e3ee589/firecci51/1dbc74c01afa1.tif...\n",
      "Copying gs://fdl2023-sar-datasets/conus/conus_partitions_aschips_293d95e3ee589/firecci51/1b497cb779921.tif...\n",
      "Copying gs://fdl2023-sar-datasets/conus/conus_partitions_aschips_293d95e3ee589/firecci51/2f3459e7942eb.tif...\n",
      "Copying gs://fdl2023-sar-datasets/conus/conus_partitions_aschips_293d95e3ee589/firecci51/2c05448f11feb.tif...\n",
      "Copying gs://fdl2023-sar-datasets/conus/conus_partitions_aschips_293d95e3ee589/firecci51/0d425e7fee762.tif...\n",
      "Copying gs://fdl2023-sar-datasets/conus/conus_partitions_aschips_293d95e3ee589/firecci51/0d0b8b1146305.tif...\n",
      "Copying gs://fdl2023-sar-datasets/conus/conus_partitions_aschips_293d95e3ee589/firecci51/354fe6b995ac6.tif...\n",
      "Copying gs://fdl2023-sar-datasets/conus/conus_partitions_aschips_293d95e3ee589/firecci51/16428340014b5.tif...\n",
      "Copying gs://fdl2023-sar-datasets/conus/conus_partitions_aschips_293d95e3ee589/firecci51/2422c7b4d4cb4.tif...\n",
      "Copying gs://fdl2023-sar-datasets/conus/conus_partitions_aschips_293d95e3ee589/firecci51/301af36b62583.tif...\n",
      "Copying gs://fdl2023-sar-datasets/conus/conus_partitions_aschips_293d95e3ee589/firecci51/0f2493e1cb16f.tif...\n",
      "Copying gs://fdl2023-sar-datasets/conus/conus_partitions_aschips_293d95e3ee589/firecci51/12861b152ce67.tif...\n",
      "Copying gs://fdl2023-sar-datasets/conus/conus_partitions_aschips_293d95e3ee589/firecci51/229c7baaf9d8a.tif...\n",
      "Copying gs://fdl2023-sar-datasets/conus/conus_partitions_aschips_293d95e3ee589/firecci51/320cc532be946.tif...\n",
      "Copying gs://fdl2023-sar-datasets/conus/conus_partitions_aschips_293d95e3ee589/firecci51/1a1446980befd.tif...\n",
      "Copying gs://fdl2023-sar-datasets/conus/conus_partitions_aschips_293d95e3ee589/firecci51/35d20d489ab14.tif...\n",
      "Copying gs://fdl2023-sar-datasets/conus/conus_partitions_aschips_293d95e3ee589/firecci51/03f46e7933833.tif...\n",
      "Copying gs://fdl2023-sar-datasets/conus/conus_partitions_aschips_293d95e3ee589/firecci51/28d367fd0359c.tif...\n",
      "Copying gs://fdl2023-sar-datasets/conus/conus_partitions_aschips_293d95e3ee589/firecci51/0fbd9d6465bcd.tif...\n",
      "Copying gs://fdl2023-sar-datasets/conus/conus_partitions_aschips_293d95e3ee589/firecci51/15f7c8d0fe28b.tif...\n",
      "- [20/20 files][114.9 MiB/114.9 MiB] 100% Done   1.9 MiB/s ETA 00:00:00         \n",
      "Operation completed over 20 objects/114.9 MiB.                                   \n"
     ]
    }
   ],
   "source": [
    "    print (f\"\\n\\n-----------\\ndownloading firecci51\\n\")\n",
    "    \n",
    "    localdest = f\"data/{datasets_folder}/firecci51\"\n",
    "    !mkdir -p $localdest\n",
    "\n",
    "    # store the file list in a temp file\n",
    "    tmpfile = f\"{tempfile.gettempdir()}/{np.random.randint(100000)}\"\n",
    "    with open(tmpfile, \"w\") as f :\n",
    "        f.write(\"\\n\".join(firechips_selected))\n",
    "\n",
    "    # download files for dataset\n",
    "    !cat $tmpfile | gsutil -m cp -nc -I $localdest"
   ]
  },
  {
   "cell_type": "code",
   "execution_count": null,
   "id": "cba6cf70-a316-45bd-8c5a-f73d020e94ac",
   "metadata": {},
   "outputs": [],
   "source": []
  }
 ],
 "metadata": {
  "kernelspec": {
   "display_name": "p310",
   "language": "python",
   "name": "p310"
  },
  "language_info": {
   "codemirror_mode": {
    "name": "ipython",
    "version": 3
   },
   "file_extension": ".py",
   "mimetype": "text/x-python",
   "name": "python",
   "nbconvert_exporter": "python",
   "pygments_lexer": "ipython3",
   "version": "3.10.6"
  }
 },
 "nbformat": 4,
 "nbformat_minor": 5
}
